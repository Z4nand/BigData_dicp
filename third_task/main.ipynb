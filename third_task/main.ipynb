{
 "cells": [
  {
   "cell_type": "code",
   "execution_count": 14,
   "metadata": {},
   "outputs": [],
   "source": [
    "from pyspark.sql import SparkSession\n",
    "\n",
    "spark = SparkSession.builder\\\n",
    "        .master(\"local[*]\")\\\n",
    "        .appName('third task')\\\n",
    "        .getOrCreate()\n"
   ]
  },
  {
   "cell_type": "markdown",
   "metadata": {},
   "source": [
    "## Подзадание А"
   ]
  },
  {
   "cell_type": "markdown",
   "metadata": {},
   "source": [
    "### Загрузка данных"
   ]
  },
  {
   "cell_type": "code",
   "execution_count": 15,
   "metadata": {},
   "outputs": [
    {
     "name": "stderr",
     "output_type": "stream",
     "text": [
      "                                                                                \r"
     ]
    }
   ],
   "source": [
    "data = spark.read.json(\"/home/zanand/Study/PyFolder/bigdata/big_data/second_task/json/person/*.json\")\n"
   ]
  },
  {
   "cell_type": "code",
   "execution_count": 16,
   "metadata": {},
   "outputs": [
    {
     "name": "stdout",
     "output_type": "stream",
     "text": [
      "+----------+----------------+--------------------+-------------+------+-----------+--------+-----------+-----------+----------------+----------------+-------------------------+------------------------+--------------------+----------+--------------------+---------+---------------+----------+--------------------+-------------+----------------+------------------+--------+---------+--------+--------------------+--------+--------+--------------------+----------------+--------------+-----+--------------------+--------------------+-------------+-------------+------------------+-----------------+-------------+--------------------+-----------+-----------+-----------------+-------------+--------------+---------------+-----------------+---------+--------------------+--------------------+--------------------+----+----------------+---------------------+--------------------+-----------------+-------------------+------------------+--------------------+---------+-----------------+--------+-----------+-------------------+-----------------+--------------------+-----------------+----+----------------+----+----------------+\n",
      "|auditorium|auditoriumAmount|      auditoriumGUID|auditoriumOid|author|beginLesson|building|buildingGid|buildingOid|contentOfLoadOid|contentOfLoadUID|contentTableOfLessonsName|contentTableOfLessonsOid|         createddate|      date|          dateOfNest|dayOfWeek|dayOfWeekString|detailInfo|          discipline|disciplineOid|disciplineinplan|disciplinetypeload|duration|endLesson|   group|           groupGUID|groupOid|groupUID|   group_facultyname|group_facultyoid|hideincapacity|isBan|          kindOfWork|kindOfWorkComplexity|kindOfWorkOid|kindOfWorkUid|          lecturer|lecturerCustomUID|lecturerEmail|        lecturerGUID|lecturerOid|lecturerUID|lecturer_post_oid|lecturer_rank|lecturer_title|lessonNumberEnd|lessonNumberStart|lessonOid|          listGroups|     listOfLecturers|        modifieddate|note|note_description|parentSchedule_Status|      parentschedule|         replaces|specialization_name|specialization_oid|              stream|streamOid|stream_facultyoid|subGroup|subGroupOid|subgroup_facultyoid|subgroup_groupOid|  tableofLessonsName|tableofLessonsOid|url1|url1_description|url2|url2_description|\n",
      "+----------+----------------+--------------------+-------------+------+-----------+--------+-----------+-----------+----------------+----------------+-------------------------+------------------------+--------------------+----------+--------------------+---------+---------------+----------+--------------------+-------------+----------------+------------------+--------+---------+--------+--------------------+--------+--------+--------------------+----------------+--------------+-----+--------------------+--------------------+-------------+-------------+------------------+-----------------+-------------+--------------------+-----------+-----------+-----------------+-------------+--------------+---------------+-----------------+---------+--------------------+--------------------+--------------------+----+----------------+---------------------+--------------------+-----------------+-------------------+------------------+--------------------+---------+-----------------+--------+-----------+-------------------+-----------------+--------------------+-----------------+----+----------------+----+----------------+\n",
      "|     8-220|             200|a2788166-e881-469...|          167|  olga|      08:00|   УЛК-8|         16|         17|           11742|            NULL|                        1|                       1|2023-08-15T17:27:...|2023.12.18|/Date(17028360000...|        1|             Пн|          |Оптимизация и при...|         7197|            NULL|                 0|       2|    09:30|    NULL|                NULL|       0|    NULL|                NULL|               0|             0|false|              Лекция|                   0|            2|         NULL|ст.пр. МУНЬКО В.В.|             NULL|         NULL|00000000-0000-000...|       1021|       NULL|               13|       ст.пр.|   МУНЬКО В.В.|              1|                1|   114303|                  []|[{ст.пр. МУНЬКО В...|2023-12-14T15:06:...|NULL|                |                    0|1 СЕМЕСТР ФИТИКС-...|ЗЫКИНА БОЛЬНИЧНЫЙ|               NULL|                 0|Поток(ФИТ-221, ФИ...|      810|                6|    NULL|          0|                  0|                0|Общий распорядок ...|                1|    |                |    |                |\n",
      "|     8-225|              50|cfe3e2e5-87b4-42f...|          163|  olga|      16:50|   УЛК-8|         16|         17|            5347|            NULL|                        6|                       6|2023-08-27T17:02:...|2023.12.18|/Date(17028360000...|        1|             Пн|          |Математическое мо...|         7480|            NULL|                 0|       2|    18:20|    NULL|                NULL|       0|    NULL|                NULL|               0|             0|false|              Лекция|                   0|            2|         NULL|ст.пр. МУНЬКО В.В.|             NULL|         NULL|00000000-0000-000...|       1021|       NULL|               13|       ст.пр.|   МУНЬКО В.В.|              6|                6|   135662|                  []|[{ст.пр. МУНЬКО В...|2023-12-14T15:11:...|NULL|                |                    0|1 СЕМЕСТР МАГИСТР...|ЗЫКИНА БОЛЬНИЧНЫЙ|               NULL|                 0|Поток(ФИТм-231,ФИ...|      813|               10|    NULL|          0|                  0|                0|Общий распорядок ...|                1|    |                |    |                |\n",
      "|     8-206|              44|eb1f7369-f430-459...|          174|  olga|      18:30|   УЛК-8|         16|         17|            5526|            NULL|                        7|                       7|2023-08-28T15:58:...|2023.12.18|/Date(17028360000...|        1|             Пн|          |Математическое мо...|         6551|            NULL|                 0|       2|    20:00| ПИм-231|f4bc9820-b0c9-434...|     537|    NULL|Факультет информа...|               6|             0|false|Практические занятия|                   0|            4|         NULL|ст.пр. МУНЬКО В.В.|             NULL|         NULL|00000000-0000-000...|       1021|       NULL|               13|       ст.пр.|   МУНЬКО В.В.|              7|                7|   137797|[{ПИм-231, f4bc98...|[{ст.пр. МУНЬКО В...|2023-08-28T15:58:...|NULL|                |                    0|1 СЕМЕСТР МАГИСТР...|             NULL|               NULL|                 0|                NULL|        0|                0|    NULL|          0|                  0|                0|Общий распорядок ...|                1|    |                |    |                |\n",
      "|     8-225|              50|cfe3e2e5-87b4-42f...|          163|  olga|      16:50|   УЛК-8|         16|         17|           11767|            NULL|                        6|                       6|2023-10-24T12:31:...|2023.12.19|/Date(17029224000...|        2|             Вт|          |Научно-исследоват...|         6012|            NULL|                 0|       2|    18:20|ФИТм-222|d4895317-2714-495...|     739|    NULL|Факультет информа...|               6|             0|false|Практические занятия|                   0|            4|         NULL|ст.пр. МУНЬКО В.В.|             NULL|         NULL|00000000-0000-000...|       1021|       NULL|               13|       ст.пр.|   МУНЬКО В.В.|              6|                6|   173441|[{ФИТм-222, d4895...|[{ст.пр. МУНЬКО В...|2023-12-14T15:16:...|NULL|                |                    0|1 СЕМЕСТР МАГИСТР...|ЗЫКИНА БОЛЬНИЧНЫЙ|               NULL|                 0|                NULL|        0|                0|    NULL|          0|                  0|                0|Общий распорядок ...|                1|    |                |    |                |\n",
      "|     8-225|              50|cfe3e2e5-87b4-42f...|          163|  olga|      18:30|   УЛК-8|         16|         17|           11767|            NULL|                        7|                       7|2023-10-24T12:31:...|2023.12.19|/Date(17029224000...|        2|             Вт|          |Научно-исследоват...|         6012|            NULL|                 0|       2|    20:00|ФИТм-222|d4895317-2714-495...|     739|    NULL|Факультет информа...|               6|             0|false|Практические занятия|                   0|            4|         NULL|ст.пр. МУНЬКО В.В.|             NULL|         NULL|00000000-0000-000...|       1021|       NULL|               13|       ст.пр.|   МУНЬКО В.В.|              7|                7|   173442|[{ФИТм-222, d4895...|[{ст.пр. МУНЬКО В...|2023-12-14T15:16:...|NULL|                |                    0|1 СЕМЕСТР МАГИСТР...|ЗЫКИНА БОЛЬНИЧНЫЙ|               NULL|                 0|                NULL|        0|                0|    NULL|          0|                  0|                0|Общий распорядок ...|                1|    |                |    |                |\n",
      "+----------+----------------+--------------------+-------------+------+-----------+--------+-----------+-----------+----------------+----------------+-------------------------+------------------------+--------------------+----------+--------------------+---------+---------------+----------+--------------------+-------------+----------------+------------------+--------+---------+--------+--------------------+--------+--------+--------------------+----------------+--------------+-----+--------------------+--------------------+-------------+-------------+------------------+-----------------+-------------+--------------------+-----------+-----------+-----------------+-------------+--------------+---------------+-----------------+---------+--------------------+--------------------+--------------------+----+----------------+---------------------+--------------------+-----------------+-------------------+------------------+--------------------+---------+-----------------+--------+-----------+-------------------+-----------------+--------------------+-----------------+----+----------------+----+----------------+\n",
      "only showing top 5 rows\n",
      "\n"
     ]
    }
   ],
   "source": [
    "data.show(5)\n"
   ]
  },
  {
   "cell_type": "markdown",
   "metadata": {},
   "source": [
    "### First"
   ]
  },
  {
   "cell_type": "code",
   "execution_count": 17,
   "metadata": {},
   "outputs": [
    {
     "name": "stderr",
     "output_type": "stream",
     "text": [
      "                                                                                \r"
     ]
    },
    {
     "data": {
      "text/plain": [
       "[('асс. ГУНЕНКОВ М.Ю.', 86),\n",
       " ('ст.пр. ШАРУН И.В.', 146),\n",
       " ('доц., к.н. ПРОХОРОВ П.В.', 72),\n",
       " ('ст.пр. МУНЬКО В.В.', 142)]"
      ]
     },
     "execution_count": 17,
     "metadata": {},
     "output_type": "execute_result"
    }
   ],
   "source": [
    "count = data.rdd \\\n",
    "        .map(lambda lesson: (lesson[\"lecturer\"], 1)) \\\n",
    "        .reduceByKey(lambda a, b: a + b) \n",
    "\n",
    "count.collect()\n"
   ]
  },
  {
   "cell_type": "markdown",
   "metadata": {},
   "source": [
    "### Second"
   ]
  },
  {
   "cell_type": "code",
   "execution_count": 18,
   "metadata": {},
   "outputs": [
    {
     "name": "stderr",
     "output_type": "stream",
     "text": [
      "                                                                                \r"
     ]
    },
    {
     "data": {
      "text/plain": [
       "[('асс. ГУНЕНКОВ М.Ю.', ('Обработка естественного языка', 48)),\n",
       " ('доц., к.н. ПРОХОРОВ П.В.',\n",
       "  ('Параллельное и распределенное программирование', 36)),\n",
       " ('ст.пр. ШАРУН И.В.',\n",
       "  ('Объектно-ориентированный анализ и проектирование', 50)),\n",
       " ('ст.пр. МУНЬКО В.В.', ('Оптимизация и принятие решений', 61))]"
      ]
     },
     "execution_count": 18,
     "metadata": {},
     "output_type": "execute_result"
    }
   ],
   "source": [
    "max = data.rdd \\\n",
    "        .map(lambda lesson: ((lesson[\"lecturer\"], lesson[\"discipline\"]), 1)) \\\n",
    "        .reduceByKey(lambda a, b: a + b) \\\n",
    "        .map(lambda data: (data[0][0], (data[0][1], data[1]))) \\\n",
    "        .reduceByKey(lambda a, b: a if a[1] > b[1] else b)\n",
    "        \n",
    "\n",
    "max.collect()\n"
   ]
  },
  {
   "cell_type": "markdown",
   "metadata": {},
   "source": [
    "### Third"
   ]
  },
  {
   "cell_type": "code",
   "execution_count": 19,
   "metadata": {},
   "outputs": [
    {
     "name": "stderr",
     "output_type": "stream",
     "text": [
      "                                                                                \r"
     ]
    },
    {
     "data": {
      "text/plain": [
       "[('асс. ГУНЕНКОВ М.Ю.', ('Г-331', 21)),\n",
       " ('ст.пр. ШАРУН И.В.', ('8-201', 55)),\n",
       " ('доц., к.н. ПРОХОРОВ П.В.', ('Г-411', 21)),\n",
       " ('ст.пр. МУНЬКО В.В.', ('8-206', 40))]"
      ]
     },
     "execution_count": 19,
     "metadata": {},
     "output_type": "execute_result"
    }
   ],
   "source": [
    "max = data.rdd \\\n",
    "        .map(lambda lesson: ((lesson[\"lecturer\"], lesson[\"auditorium\"]), 1)) \\\n",
    "        .reduceByKey(lambda a, b: a + b) \\\n",
    "        .map(lambda data: (data[0][0], (data[0][1], data[1]))) \\\n",
    "        .reduceByKey(lambda a, b: a if a[1] > b[1] else b)\n",
    "        \n",
    "\n",
    "max.collect()\n"
   ]
  },
  {
   "cell_type": "markdown",
   "metadata": {},
   "source": [
    "### Fourth"
   ]
  },
  {
   "cell_type": "code",
   "execution_count": 20,
   "metadata": {},
   "outputs": [
    {
     "name": "stderr",
     "output_type": "stream",
     "text": [
      "                                                                                \r"
     ]
    },
    {
     "data": {
      "text/plain": [
       "[(('асс. ГУНЕНКОВ М.Ю.', 'Пересдача задолженностей'), 2),\n",
       " (('доц., к.н. ПРОХОРОВ П.В.', 'Лекция'), 36),\n",
       " (('ст.пр. МУНЬКО В.В.', 'Практические занятия'), 122),\n",
       " (('ст.пр. МУНЬКО В.В.', 'Лекция'), 6),\n",
       " (('ст.пр. ШАРУН И.В.', 'Лабораторные работы'), 88),\n",
       " (('асс. ГУНЕНКОВ М.Ю.', 'Практические занятия'), 32),\n",
       " (('доц., к.н. ПРОХОРОВ П.В.', 'Лабораторные работы'), 36),\n",
       " (('ст.пр. ШАРУН И.В.', 'Пересдача задолженностей'), 8),\n",
       " (('асс. ГУНЕНКОВ М.Ю.', 'Лекция'), 1),\n",
       " (('ст.пр. МУНЬКО В.В.', 'Лабораторные работы'), 2),\n",
       " (('ст.пр. МУНЬКО В.В.', 'Пересдача задолженностей'), 12),\n",
       " (('ст.пр. ШАРУН И.В.', 'Практические занятия'), 50),\n",
       " (('асс. ГУНЕНКОВ М.Ю.', 'Лабораторные работы'), 51)]"
      ]
     },
     "execution_count": 20,
     "metadata": {},
     "output_type": "execute_result"
    }
   ],
   "source": [
    "max = data.rdd \\\n",
    "        .map(lambda lesson: ((lesson[\"lecturer\"], lesson[\"kindOfWork\"]), 1)) \\\n",
    "        .reduceByKey(lambda a, b: a + b)\n",
    "        \n",
    "max.collect()\n"
   ]
  },
  {
   "cell_type": "markdown",
   "metadata": {},
   "source": [
    "## Подзадание Б"
   ]
  },
  {
   "cell_type": "markdown",
   "metadata": {},
   "source": [
    "Данные"
   ]
  },
  {
   "cell_type": "code",
   "execution_count": 21,
   "metadata": {},
   "outputs": [],
   "source": [
    "from mrjob.job import MRJob\n",
    "from mrjob.job import MRStep\n",
    "from mrjob.protocol import JSONValueProtocol, TextValueProtocol\n",
    "from urllib.request import urlopen\n",
    "import json\n",
    "from datetime import datetime, timedelta\n",
    "import itertools\n",
    "\n",
    "START_DATE = \"2023.12.03\"\n",
    "END_DATE = \"2023.12.30\"\n",
    "DATE_FORMAT = \"%Y.%m.%d\"\n",
    "\n",
    "LECTURER_MATRIX = list()\n",
    "AUDITORIUM_MATRIXES = dict()\n",
    "\n",
    "AUDITORIUMS = {178: \"8-201\", 176: \"8-204\"}\n"
   ]
  },
  {
   "cell_type": "markdown",
   "metadata": {},
   "source": [
    "Функции"
   ]
  },
  {
   "cell_type": "code",
   "execution_count": 22,
   "metadata": {},
   "outputs": [],
   "source": [
    "\n",
    "def index_to_date(index):\n",
    "    if index == 0:\n",
    "        return \"08:00\"\n",
    "    elif index == 1:\n",
    "        return \"09:40\"\n",
    "    elif index == 2:\n",
    "        return \"11:35\"\n",
    "    elif index == 3:\n",
    "        return \"13:15\"\n",
    "    elif index == 4:\n",
    "        return \"15:10\"\n",
    "    elif index == 5:\n",
    "        return \"16:50\"\n",
    "    elif index == 6:\n",
    "        return \"18:30\"\n",
    "    \n",
    "def date_to_index(date):\n",
    "    if date == \"08:00\":\n",
    "        return 0\n",
    "    elif date == \"09:40\":\n",
    "        return 1\n",
    "    elif date == \"11:35\":\n",
    "        return 2\n",
    "    elif date == \"13:15\":\n",
    "        return 3\n",
    "    elif date == \"15:10\":\n",
    "        return 4\n",
    "    elif date == \"16:50\":\n",
    "        return 5\n",
    "    elif date == \"18:30\":\n",
    "        return 6\n",
    "\n",
    "def matrix_from_lessons(lessons, start_date, end_date):\n",
    "    start_date = datetime.strptime(start_date, DATE_FORMAT)\n",
    "    end_date = datetime.strptime(end_date, DATE_FORMAT)\n",
    "\n",
    "    days = (end_date - start_date).days + 1\n",
    "    matrix =  [[True] * 7 for _ in range(0, days)]\n",
    "\n",
    "    for lesson in lessons:\n",
    "        time_index = date_to_index(lesson[\"beginLesson\"])\n",
    "        if time_index is None:\n",
    "            continue\n",
    "\n",
    "        date = datetime.strptime(lesson[\"date\"], DATE_FORMAT)\n",
    "        day_index = (date - start_date).days\n",
    "\n",
    "\n",
    "        matrix[day_index][time_index] = False\n",
    "\n",
    "\n",
    "    return matrix\n",
    "\n",
    "def lessons_from_url(url):\n",
    " \n",
    "    resp = urlopen(url)\n",
    "    data = resp.read()\n",
    "    return json.loads(data.decode(\"utf-8\"))\n",
    "\n",
    "def get_lecturer_matrix(id, start_date = START_DATE, end_date = END_DATE):\n",
    "    url = f\"https://rasp.omgtu.ru/api/schedule/person/{id}?start={start_date}&finish={end_date}&lng=1\"\n",
    " \n",
    "    lessons = lessons_from_url(url)\n",
    "    matrix = matrix_from_lessons(lessons, start_date, end_date)\n",
    "    return matrix\n",
    "\n",
    "def get_auditorium_matrix(id, start_date = START_DATE, end_date = END_DATE):\n",
    "    url = f\"https://rasp.omgtu.ru/api/schedule/auditorium/{id}?start={start_date}&finish={end_date}&lng=1\"\n",
    "\n",
    "    lessons = lessons_from_url(url)\n",
    "    matrix = matrix_from_lessons(lessons, start_date, end_date)\n",
    "    return matrix\n",
    "\n",
    "def get_group_matrix(id, start_date = START_DATE, end_date = END_DATE):\n",
    "    url = f\"https://rasp.omgtu.ru/api/schedule/group/{id}?start={start_date}&finish={end_date}&lng=1\"\n",
    " \n",
    "    lessons = lessons_from_url(url)\n",
    "    matrix = matrix_from_lessons(lessons, start_date, end_date)\n",
    "    return matrix\n",
    "\n",
    "def group_reducer(data):\n",
    "        group_id = data[0][0]\n",
    "        group_name = data[0][1]\n",
    "        group_matrix = get_group_matrix(group_id)\n",
    "        lecturer_matrix = LECTURER_MATRIX\n",
    "\n",
    "        start_date = datetime.strptime(START_DATE, DATE_FORMAT)\n",
    "        end_date = datetime.strptime(END_DATE, DATE_FORMAT)\n",
    "        days = (end_date - start_date).days + 1\n",
    "\n",
    "        for lesson in data[1]:\n",
    "            for (day, time) in itertools.product(range(0, days), range(0, 7)):\n",
    "                \n",
    "                for (audit_id, audit_matrix) in AUDITORIUM_MATRIXES.items():\n",
    "                \n",
    "                    if group_matrix[day][time] and lecturer_matrix[day][time] and audit_matrix[day][time]:\n",
    "                        \n",
    "                        # количество пар должно быть меньше 4\n",
    "                        if(sum(group_matrix[day]) > 4):\n",
    "                            continue\n",
    "                        \n",
    "                        # True - есть пара\n",
    "                        # False - нет пары\n",
    "                        prev_time = True if time <= 0 else group_matrix[day][time - 1]\n",
    "                        next_time = True if time >= 6 else group_matrix[day][time + 1]\n",
    "                        \n",
    "                        # у пар не должно быть окон, значит после нашей и до нашей пары должна быть хоть одна пара\n",
    "                        if prev_time and next_time:\n",
    "                             continue\n",
    "                        \n",
    "                        lecturer_matrix[day][time] = False\n",
    "                        audit_matrix[day][time] = False\n",
    "                        group_matrix[day][time] = False\n",
    "                        \n",
    "                        yield f\"[{group_name}] date:{lesson['date']}-{lesson['beginLesson']} => [{AUDITORIUMS[audit_id]}] {(start_date + timedelta(days=day)).date()}:{index_to_date(time)}\"\n",
    "                        break\n",
    "                else:\n",
    "                    continue\n",
    "                break\n",
    "            \n",
    "            else:\n",
    "                # if nothing found\n",
    "                yield f\"group:{group_id}, lesson: {lesson['date']}-{lesson['beginLesson']} => NO OPTIONS FOUND :(\"\n",
    "                continue\n"
   ]
  },
  {
   "cell_type": "markdown",
   "metadata": {},
   "source": [
    "Загрузка"
   ]
  },
  {
   "cell_type": "code",
   "execution_count": 24,
   "metadata": {},
   "outputs": [
    {
     "name": "stdout",
     "output_type": "stream",
     "text": [
      "+----------+----------------+--------------------+-------------+------+-----------+--------------+-----------+-----------+----------------+----------------+-------------------------+------------------------+--------------------+----------+--------------------+---------+---------------+----------+--------------------+-------------+----------------+------------------+--------+---------+-------+--------------------+--------+--------+--------------------+----------------+--------------+-----+--------------------+--------------------+-------------+-------------+-----------------+-----------------+-------------+--------------------+-----------+-----------+-----------------+-------------+--------------+---------------+-----------------+---------+--------------------+--------------------+--------------------+----+----------------+---------------------+--------------------+--------+-------------------+------------------+------+---------+-----------------+--------+-----------+-------------------+-----------------+--------------------+-----------------+----+----------------+----+----------------+\n",
      "|auditorium|auditoriumAmount|      auditoriumGUID|auditoriumOid|author|beginLesson|      building|buildingGid|buildingOid|contentOfLoadOid|contentOfLoadUID|contentTableOfLessonsName|contentTableOfLessonsOid|         createddate|      date|          dateOfNest|dayOfWeek|dayOfWeekString|detailInfo|          discipline|disciplineOid|disciplineinplan|disciplinetypeload|duration|endLesson|  group|           groupGUID|groupOid|groupUID|   group_facultyname|group_facultyoid|hideincapacity|isBan|          kindOfWork|kindOfWorkComplexity|kindOfWorkOid|kindOfWorkUid|         lecturer|lecturerCustomUID|lecturerEmail|        lecturerGUID|lecturerOid|lecturerUID|lecturer_post_oid|lecturer_rank|lecturer_title|lessonNumberEnd|lessonNumberStart|lessonOid|          listGroups|     listOfLecturers|        modifieddate|note|note_description|parentSchedule_Status|      parentschedule|replaces|specialization_name|specialization_oid|stream|streamOid|stream_facultyoid|subGroup|subGroupOid|subgroup_facultyoid|subgroup_groupOid|  tableofLessonsName|tableofLessonsOid|url1|url1_description|url2|url2_description|\n",
      "+----------+----------------+--------------------+-------------+------+-----------+--------------+-----------+-----------+----------------+----------------+-------------------------+------------------------+--------------------+----------+--------------------+---------+---------------+----------+--------------------+-------------+----------------+------------------+--------+---------+-------+--------------------+--------+--------+--------------------+----------------+--------------+-----+--------------------+--------------------+-------------+-------------+-----------------+-----------------+-------------+--------------------+-----------+-----------+-----------------+-------------+--------------+---------------+-----------------+---------+--------------------+--------------------+--------------------+----+----------------+---------------------+--------------------+--------+-------------------+------------------+------+---------+-----------------+--------+-----------+-------------------+-----------------+--------------------+-----------------+----+----------------+----+----------------+\n",
      "|     8-201|              46|27c18a18-2367-428...|          178|  olga|      16:50|         УЛК-8|         16|         17|           11619|            NULL|                        6|                       6|2023-08-20T19:22:...|2023.11.06|/Date(16992072000...|        1|             Пн|          |      Большие данные|         4984|            NULL|                 0|       2|    18:20| МО-201|214dbbcd-1724-4b3...|     493|    NULL|Факультет информа...|               6|             0|false|Практические занятия|                   0|            4|         NULL|ст.пр. ШАРУН И.В.|             NULL|         NULL|00000000-0000-000...|       1020|       NULL|               13|       ст.пр.|    ШАРУН И.В.|              6|                6|   123498|[{МО-201, 214dbbc...|[{ст.пр. ШАРУН И....|2023-08-20T19:22:...|NULL|                |                    1|1 СЕМЕСТР ФИТИКС-...|    NULL|               NULL|                 0|  NULL|        0|                0|    NULL|          0|                  0|                0|Общий распорядок ...|                1|    |                |    |                |\n",
      "|     8-204|              36|977e5f86-4383-40d...|          176|  olga|      11:35|         УЛК-8|         16|         17|           11723|            NULL|                        3|                       3|2023-08-16T09:53:...|2023.11.07|/Date(16992936000...|        2|             Вт|          |Объектно-ориентир...|         4769|            NULL|                 0|       2|    13:05|ФИТ-221|a28a9edc-ac70-4ab...|     734|    NULL|Факультет информа...|               6|             0|false|Практические занятия|                   0|            4|         NULL|ст.пр. ШАРУН И.В.|             NULL|         NULL|00000000-0000-000...|       1020|       NULL|               13|       ст.пр.|    ШАРУН И.В.|              3|                3|   114616|[{ФИТ-221, a28a9e...|[{ст.пр. ШАРУН И....|2023-08-16T09:53:...|NULL|                |                    1|1 СЕМЕСТР ФИТИКС-...|    NULL|               NULL|                 0|  NULL|        0|                0|    NULL|          0|                  0|                0|Общий распорядок ...|                1|    |                |    |                |\n",
      "|     Г-414|              20|be8210bb-551d-436...|           29|  olga|      13:15|Главный корпус|          3|          4|           11724|            NULL|                        4|                       4|2023-08-16T11:07:...|2023.11.07|/Date(16992936000...|        2|             Вт|          |Объектно-ориентир...|         4769|            NULL|                 0|       2|    14:45|ФИТ-222|484a0bb1-be4b-401...|     735|    NULL|Факультет информа...|               6|             0|false|Практические занятия|                   0|            4|         NULL|ст.пр. ШАРУН И.В.|             NULL|         NULL|00000000-0000-000...|       1020|       NULL|               13|       ст.пр.|    ШАРУН И.В.|              4|                4|   114852|[{ФИТ-222, 484a0b...|[{ст.пр. ШАРУН И....|2023-08-16T11:07:...|NULL|                |                    1|1 СЕМЕСТР ФИТИКС-...|    NULL|               NULL|                 0|  NULL|        0|                0|    NULL|          0|                  0|                0|Общий распорядок ...|                1|    |                |    |                |\n",
      "|     8-201|              46|27c18a18-2367-428...|          178|  olga|      15:10|         УЛК-8|         16|         17|           11755|            NULL|                        5|                       5|2023-08-15T18:38:...|2023.11.10|/Date(16995528000...|        5|             Пт|          |Объектно-ориентир...|         4769|            NULL|                 0|       2|    16:40| МО-221|3b560837-bf9c-46a...|     495|    NULL|Факультет информа...|               6|             0|false|Практические занятия|                   0|            4|         NULL|ст.пр. ШАРУН И.В.|             NULL|         NULL|00000000-0000-000...|       1020|       NULL|               13|       ст.пр.|    ШАРУН И.В.|              5|                5|   114451|[{МО-221, 3b56083...|[{ст.пр. ШАРУН И....|2023-08-15T18:38:...|NULL|                |                    1|1 СЕМЕСТР ФИТИКС-...|    NULL|               NULL|                 0|  NULL|        0|                0|    NULL|          0|                  0|                0|Общий распорядок ...|                1|    |                |    |                |\n",
      "|     Г-412|              20|85f008e9-17cf-4f0...|           31|  olga|      08:00|Главный корпус|          3|          4|           11619|            NULL|                        1|                       1|2023-08-20T19:24:...|2023.11.16|/Date(17000712000...|        4|             Чт|          |      Большие данные|         4984|            NULL|                 0|       2|    09:30| МО-201|214dbbcd-1724-4b3...|     493|    NULL|Факультет информа...|               6|             0|false|Практические занятия|                   0|            4|         NULL|ст.пр. ШАРУН И.В.|             NULL|         NULL|00000000-0000-000...|       1020|       NULL|               13|       ст.пр.|    ШАРУН И.В.|              1|                1|   123510|[{МО-201, 214dbbc...|[{ст.пр. ШАРУН И....|2023-08-20T19:24:...|NULL|                |                    1|1 СЕМЕСТР ФИТИКС-...|    NULL|               NULL|                 0|  NULL|        0|                0|    NULL|          0|                  0|                0|Общий распорядок ...|                1|    |                |    |                |\n",
      "+----------+----------------+--------------------+-------------+------+-----------+--------------+-----------+-----------+----------------+----------------+-------------------------+------------------------+--------------------+----------+--------------------+---------+---------------+----------+--------------------+-------------+----------------+------------------+--------+---------+-------+--------------------+--------+--------+--------------------+----------------+--------------+-----+--------------------+--------------------+-------------+-------------+-----------------+-----------------+-------------+--------------------+-----------+-----------+-----------------+-------------+--------------+---------------+-----------------+---------+--------------------+--------------------+--------------------+----+----------------+---------------------+--------------------+--------+-------------------+------------------+------+---------+-----------------+--------+-----------+-------------------+-----------------+--------------------+-----------------+----+----------------+----+----------------+\n",
      "only showing top 5 rows\n",
      "\n"
     ]
    }
   ],
   "source": [
    "LECTURER_MATRIX = get_lecturer_matrix(782898)\n",
    "AUDITORIUM_MATRIXES[178] = get_auditorium_matrix(178) # 8-201\n",
    "AUDITORIUM_MATRIXES[176] = get_auditorium_matrix(176) # 8-204\n",
    "\n",
    "data = spark.read.json(\"/home/zanand/Study/PyFolder/bigdata/big_data/second_task/b_subtask/input.json\")\n",
    "\n",
    "data.show(5)\n"
   ]
  },
  {
   "cell_type": "code",
   "execution_count": 25,
   "metadata": {},
   "outputs": [
    {
     "name": "stderr",
     "output_type": "stream",
     "text": [
      "                                                                                \r"
     ]
    },
    {
     "data": {
      "text/plain": [
       "['[МО-201] date:2023.11.06-16:50 => [8-201] 2023-12-06:11:35',\n",
       " '[МО-201] date:2023.11.16-08:00 => [8-204] 2023-12-06:09:40',\n",
       " '[МО-201] date:2023.11.16-09:40 => [8-201] 2023-12-06:08:00',\n",
       " '[МО-201] date:2023.11.20-16:50 => [8-201] 2023-12-07:18:30',\n",
       " '[ФИТ-221] date:2023.11.07-11:35 => [8-204] 2023-12-05:08:00',\n",
       " '[ФИТ-221] date:2023.11.21-11:35 => [8-201] 2023-12-07:09:40',\n",
       " '[ФИТ-222] date:2023.11.07-13:15 => [8-201] 2023-12-12:08:00',\n",
       " '[ФИТ-222] date:2023.11.21-13:15 => [8-201] 2023-12-19:08:00',\n",
       " '[ФИТ-222] date:2023.11.22-11:35 => [8-201] 2023-12-20:11:35',\n",
       " '[МО-221] date:2023.11.10-15:10 => [8-201] 2023-12-06:16:50',\n",
       " '[МО-221] date:2023.11.24-15:10 => [8-201] 2023-12-08:18:30']"
      ]
     },
     "execution_count": 25,
     "metadata": {},
     "output_type": "execute_result"
    }
   ],
   "source": [
    "result = data.rdd \\\n",
    "    .map(lambda lesson: ((lesson[\"groupOid\"], lesson[\"group\"]), [lesson]) ) \\\n",
    "    .reduceByKey(lambda lesson1, lesson2: lesson1 + lesson2) \\\n",
    "    .flatMap(group_reducer)\n",
    "    \n",
    "result.collect()\n"
   ]
  }
 ],
 "metadata": {
  "kernelspec": {
   "display_name": "Python 3",
   "language": "python",
   "name": "python3"
  },
  "language_info": {
   "codemirror_mode": {
    "name": "ipython",
    "version": 3
   },
   "file_extension": ".py",
   "mimetype": "text/x-python",
   "name": "python",
   "nbconvert_exporter": "python",
   "pygments_lexer": "ipython3",
   "version": "3.11.6"
  }
 },
 "nbformat": 4,
 "nbformat_minor": 2
}
